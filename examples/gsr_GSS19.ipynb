{
  "nbformat": 4,
  "nbformat_minor": 0,
  "metadata": {
    "colab": {
      "name": "gsr_GSS19.ipynb",
      "version": "0.3.2",
      "provenance": [],
      "collapsed_sections": [],
      "include_colab_link": true
    },
    "kernelspec": {
      "name": "python3",
      "display_name": "Python 3"
    }
  },
  "cells": [
    {
      "cell_type": "markdown",
      "metadata": {
        "id": "view-in-github",
        "colab_type": "text"
      },
      "source": [
        "<a href=\"https://colab.research.google.com/github/steo85it/pygsr/blob/master/example/gsr_GSS19.ipynb\" target=\"_parent\"><img src=\"https://colab.research.google.com/assets/colab-badge.svg\" alt=\"Open In Colab\"/></a>"
      ]
    },
    {
      "cell_type": "markdown",
      "metadata": {
        "id": "mDrzxpFZ71PL",
        "colab_type": "text"
      },
      "source": [
        "#Hands-on Global Sphere Reconstruction exercise"
      ]
    },
    {
      "cell_type": "markdown",
      "metadata": {
        "id": "fPWeocOs8i9d",
        "colab_type": "toc"
      },
      "source": [
        ">[Hands-on Global Sphere Reconstruction exercise](#scrollTo=mDrzxpFZ71PL)\n",
        "\n",
        ">>[Introduction](#scrollTo=9x974rxD8V4T)\n",
        "\n",
        ">>[Set-up of the project and of the environment](#scrollTo=f6Xm4aoY9DUv)\n",
        "\n",
        ">>>[Clone project](#scrollTo=4cP_ziTzwuiu)\n",
        "\n",
        ">>>[Import all required libraries](#scrollTo=iwFXsuvANK_7)\n",
        "\n",
        ">>[Main](#scrollTo=nfbpxYOfoBTB)\n",
        "\n",
        ">>[Step 1: verify the numerical correctness](#scrollTo=IACIeHCdcrXm)\n",
        "\n",
        ">>[Step 2: consistency of the formal and empirical errors](#scrollTo=IeasOkYjBDo3)\n",
        "\n",
        ">>[Step 3: Influence of $\\sigma_\\mathrm{c}$ on the convergence of the solution](#scrollTo=xTCTaGMMDDu5)\n",
        "\n",
        ">>[Step 4: Influence of GR on the accuracy of the astrometric parameters](#scrollTo=lGYhq4oUM1Lf)\n",
        "\n"
      ]
    },
    {
      "cell_type": "markdown",
      "metadata": {
        "id": "9x974rxD8V4T",
        "colab_type": "text"
      },
      "source": [
        "## Introduction\n",
        "This exercise uses the Google Colab tool to implement a simplified version of a Gaia-like Global Sphere Reconstruction code in Python3. Currently, it uses simulated observations provided by Alexey Butkevich, of the Pulkovo Observatory, Russia, which considers 1000 stars with an approximately uniform distribution on the celestial sphere. Observations are then generated for 5 years according to a nominal Gaia-like scanning law.\n",
        "\n",
        "The general goal is to give a \"hands-on\" overview of the main numerical and statistical properties of the global astrometric problem.\n",
        "\n",
        "The astrometric model is simplified with respect to:\n",
        "1. The GR metric, which takes into account just the Schwarzschild-like contribution of the Sun (no planetary contributions).\n",
        "2. The observation equation, which considers only the case of 2 astrometric unknowns (i.e. positions); parallaxes, proper motions, attitude, calibration and global parameters are the true ones and are not reconstructed.\n",
        "\n",
        "On the other side, the attitude is modelled in a fully consistent relativistic way.\n",
        "\n",
        "Attention will be paid to:\n",
        "* The statistical behavior of the reconstruction errors for the astrometric parameters from a given measurement accuracy.\n",
        "* The influence of the catalog uncertainty on the solution of the linearized problem.\n",
        "* The influence of the scanning law on the precision of the solution.\n",
        "* The influence of neglecting GR on the accuracy of the solution.\n"
      ]
    },
    {
      "cell_type": "markdown",
      "metadata": {
        "id": "f6Xm4aoY9DUv",
        "colab_type": "text"
      },
      "source": [
        "## Set-up of the project and of the environment\n",
        "In this section the Python project is cloned from github; it includes both the code and the needed simulated data. Then, common libraries like numpy, astropy, and pandas are imported, along with the project-specific ones that implement, for example, the computation of the coefficients and known terms of the equation system.\n",
        "\n",
        "The exercise has a negligible computational complexity, thus the project-specific libraries are not compiled, and the source code is readily available to the interested reader.\n",
        "\n",
        "To proceed, simply evaluate each single cell of this section"
      ]
    },
    {
      "cell_type": "markdown",
      "metadata": {
        "id": "4cP_ziTzwuiu",
        "colab_type": "text"
      },
      "source": [
        "### Clone project"
      ]
    },
    {
      "cell_type": "code",
      "metadata": {
        "id": "_ryPi85sHnQZ",
        "colab_type": "code",
        "outputId": "b5729c91-54c9-4b18-fab3-cc6f28633731",
        "colab": {
          "base_uri": "https://localhost:8080/",
          "height": 139
        }
      },
      "source": [
        "!git clone https://github.com/steo85it/pygsr.git"
      ],
      "execution_count": 1,
      "outputs": [
        {
          "output_type": "stream",
          "text": [
            "Cloning into 'pygsr'...\n",
            "remote: Enumerating objects: 221, done.\u001b[K\n",
            "remote: Counting objects: 100% (221/221), done.\u001b[K\n",
            "remote: Compressing objects: 100% (116/116), done.\u001b[K\n",
            "remote: Total 221 (delta 117), reused 193 (delta 103), pack-reused 0\u001b[K\n",
            "Receiving objects: 100% (221/221), 21.48 MiB | 29.96 MiB/s, done.\n",
            "Resolving deltas: 100% (117/117), done.\n"
          ],
          "name": "stdout"
        }
      ]
    },
    {
      "cell_type": "markdown",
      "metadata": {
        "id": "DYPmyhOHz5QC",
        "colab_type": "text"
      },
      "source": [
        "If available, upload full dataset of 5 years of observations of 1000 stars. Else, a reduced dataset of 6 observations of a single star is included in the clone."
      ]
    },
    {
      "cell_type": "code",
      "metadata": {
        "id": "Q2gG7k8WUCUO",
        "colab_type": "code",
        "colab": {}
      },
      "source": [
        "!#wget -q https://www.dropbox.com/s/cb2bfdybefcg05k/plan_b_full.tar.gz"
      ],
      "execution_count": 0,
      "outputs": []
    },
    {
      "cell_type": "code",
      "metadata": {
        "id": "3dNwKEb2UOPR",
        "colab_type": "code",
        "outputId": "997ad2fd-47b9-42c6-85c3-5cb5fed3bb60",
        "colab": {
          "base_uri": "https://localhost:8080/",
          "height": 330
        }
      },
      "source": [
        "!#ls -l\n",
        "!#mv plan_b_full.tar.gz /content/pygsr/auxdir/.\n",
        "!#cd pygsr/auxdir; tar xvzf plan_b_full.tar.gz; ls -l plan_b_full/"
      ],
      "execution_count": 3,
      "outputs": [
        {
          "output_type": "stream",
          "text": [
            "total 355256\n",
            "-rw-r--r-- 1 root root 363773202 Jun 13 16:05 plan_b_full.tar.gz\n",
            "drwxr-xr-x 5 root root      4096 Jun 13 16:05 pygsr\n",
            "drwxr-xr-x 1 root root      4096 May 31 16:17 sample_data\n",
            "plan_b_full/Ephem.txt\n",
            "plan_b_full/\n",
            "plan_b_full/Catalog.txt\n",
            "plan_b_full/Observ.txt\n",
            "plan_b_full/Config\n",
            "plan_b_full/Scan.txt\n",
            "plan_b_full/Index\n",
            "total 1043364\n",
            "-rw-r--r-- 1 1032 1032    126000 May 18 15:37 Catalog.txt\n",
            "-rw-r--r-- 1 1032 1032       399 May 18 15:09 Config\n",
            "-rw-r--r-- 1 1032 1032 657450001 May 18 01:33 Ephem.txt\n",
            "-rw-r--r-- 1 1032 1032     10000 May 18 15:09 Index\n",
            "-rw-r--r-- 1 1032 1032   5810935 May 18 15:09 Observ.txt\n",
            "-rw-r--r-- 1 1032 1032 404989200 May 20 00:29 Scan.txt\n"
          ],
          "name": "stdout"
        }
      ]
    },
    {
      "cell_type": "markdown",
      "metadata": {
        "id": "iwFXsuvANK_7",
        "colab_type": "text"
      },
      "source": [
        "### Import all required libraries"
      ]
    },
    {
      "cell_type": "code",
      "metadata": {
        "id": "k9mcBLdykq5b",
        "colab_type": "code",
        "outputId": "93024850-82d8-43f0-b7f0-09a4ec8d0f75",
        "colab": {
          "base_uri": "https://localhost:8080/",
          "height": 34
        }
      },
      "source": [
        "%cd /content/pygsr\n",
        "! rm pygsr.py\n",
        "import glob\n",
        "import warnings\n",
        "import time\n",
        "import random\n",
        "\n",
        "import numpy as np\n",
        "import pandas as pd\n",
        "\n",
        "from astropy import constants as const, units as u\n",
        "from astropy.coordinates import SkyCoord\n",
        "\n",
        "from gsrconst import rad2arcsec\n",
        "from gsr_util import solve_star, load_data, process\n",
        "\n",
        "from gsr_util import read_parse, read_parse_b\n",
        "from gsr_obs_eq import obs_eq\n",
        "import gsrstar\n",
        "\n",
        "import os\n",
        "import pickle\n",
        "from gsropt import projv, opt, debug"
      ],
      "execution_count": 4,
      "outputs": [
        {
          "output_type": "stream",
          "text": [
            "/content/pygsr\n"
          ],
          "name": "stdout"
        }
      ]
    },
    {
      "cell_type": "markdown",
      "metadata": {
        "id": "nfbpxYOfoBTB",
        "colab_type": "text"
      },
      "source": [
        "## Main\n",
        "The following code loads the data, and selects the source(s) (`chosen_stars` numpy array) to be solved in the system of linearized equations $\\mathbf{b}=A\\delta\\mathbf{x}$. Since the observation equation is linearized, $\\delta\\mathbf{x}$ represents the *correction* to the catalog values $\\mathbf{x}_0$.\n",
        "\n",
        "Before running it, first set the appropriate options:\n",
        "\n",
        "1. `options.set_cat_err` sets the stdev of the error of the starting point of the linearization (catalog error). Positions and parallaxes are expressed in arcseconds, proper motions in arcsec/yr.\n",
        "2. `options.set_meas_err_sigma` sets the stdev of the single-measurement error (in arcsec).\n",
        "3. `options.set_relat` works as a boolean; \"1\" switches GR on, \"0\" switches GR off.\n",
        "\n",
        "The known term is computed as $b=\\phi_\\mathrm{obs}-\\phi_\\mathrm{calc}$, where $\\phi_\\mathrm{obs}$ represents the observed value (i.e., the measurement) and is always simulated by considering the relativistic model; whereas $\\phi_\\mathrm{calc}$ represents the prediction made by the astrometric model. The third option, therefore, tells the code whether GR has to be used or not in the computation of $\\phi_\\mathrm{calc}$.\n",
        "\n",
        "Once again, evaluate the following cells to before proceeding forward."
      ]
    },
    {
      "cell_type": "code",
      "metadata": {
        "id": "DQfkois2Ot7q",
        "colab_type": "code",
        "outputId": "ee707a41-b790-4333-e0b3-6dfadc6b0365",
        "colab": {
          "base_uri": "https://localhost:8080/",
          "height": 121
        }
      },
      "source": [
        "%cd /content/pygsr/\n",
        "\n",
        "\n",
        "if __name__ == '__main__':\n",
        "\n",
        "    ##############################################\n",
        "    # launch program and clock\n",
        "    # -----------------------------\n",
        "    start = time.time()\n",
        "\n",
        "    if projv == 'b':\n",
        "\n",
        "        options = opt()\n",
        "        ###############################################\n",
        "        #### Set cat err, meas_err_sigma and relat ####\n",
        "        ###############################################\n",
        "        options.set_cat_err({'ra': 1.e-2 / rad2arcsec,\n",
        "                      'dec': 1.e-2 / rad2arcsec}) #,'par': 0.0 / rad2arcsec,'mu_a': 0.0 / rad2arcsec,'mu_d': 0.0 / rad2arcsec})\n",
        "        options.set_meas_err_sigma(0.0 / rad2arcsec)\n",
        "        options.set_relat(1)\n",
        "\n",
        "        #infils = np.sort(glob.glob('auxdir/plan_b_full/*.txt'))\n",
        "        infils = np.sort(glob.glob('auxdir/plan_b/*.txt'))\n",
        "        print(infils)\n",
        "        dfs = load_data(infils)\n",
        "\n",
        "        nobs_per_star = pd.DataFrame([(s_id, len(dfs['obs'].loc[dfs['obs'].sourceID == s_id]),\n",
        "          dfs['cat'].loc[dfs['cat'].sourceID == s_id][['ra']].values[0][0],dfs['cat'].loc[dfs['cat'].sourceID == s_id][['dec']].values[0][0])\n",
        "                            for s_id in dfs['cat'].sourceID.unique()])\n",
        "\n",
        "        nobs_per_star.columns = [\"id\", \"num_obs\", \"ra\", \"dec\"]\n",
        "        #print(nobs_per_star.max())\n",
        "        print(nobs_per_star.sort_values(by=[\"num_obs\"]))\n",
        "        \n",
        "    # stop clock and print runtime\n",
        "    # -----------------------------\n",
        "    end = time.time()\n",
        "    print('----- Runtime = ' + str(end - start) + ' sec -----' + str((end - start) / 60.) + ' min -----')"
      ],
      "execution_count": 14,
      "outputs": [
        {
          "output_type": "stream",
          "text": [
            "/content/pygsr\n",
            "['auxdir/plan_b/Catalog.txt' 'auxdir/plan_b/Ephem.txt'\n",
            " 'auxdir/plan_b/Observ.txt' 'auxdir/plan_b/Scan.txt']\n",
            "   id  num_obs        ra       dec\n",
            "0   1        6  6.283044  0.749934\n",
            "----- Runtime = 0.13717293739318848 sec -----0.002286215623219808 min -----\n"
          ],
          "name": "stdout"
        }
      ]
    },
    {
      "cell_type": "markdown",
      "metadata": {
        "id": "0pH-i1eTnjnL",
        "colab_type": "text"
      },
      "source": [
        "## Step 0: Look at the residuals\n",
        "Choose one star (currently tested for star #1) from the table printed in the above cell, and solve the system for 1 stars with a given measurement error and plot the residuals (known terms of the equation system) to verify that the perturbations have been created correctly."
      ]
    },
    {
      "cell_type": "code",
      "metadata": {
        "id": "mspYudvZmBWm",
        "colab_type": "code",
        "outputId": "6920d711-0b62-4172-965e-cf3f8881f56e",
        "colab": {
          "base_uri": "https://localhost:8080/",
          "height": 34
        }
      },
      "source": [
        "        #############################################\n",
        "        #### Chose here the star(s) to be solved ####\n",
        "        #############################################\n",
        "        chosen_stars = dfs['cat'].sourceID.unique()[:1]\n",
        "\n",
        "        stars = [gsrstar.star(x,\n",
        "                      cat= dfs['cat'].loc[dfs['cat'].sourceID==x],opt=options)\n",
        "                 for x in chosen_stars]\n",
        "\n",
        "        if debug:\n",
        "            stars = stars[:]\n",
        "\n",
        "        for s in stars:\n",
        "            setattr(s,'obs_df',\n",
        "                    dfs['obs'].loc[dfs['obs'].sourceID==s.id] )\n",
        "            setattr(s,'eph_df',\n",
        "                    dfs['eph'].loc[dfs['eph'].frameID.isin(s.obs_df.frameID)] )\n",
        "            setattr(s,'att_df',\n",
        "                    dfs['scan'].loc[dfs['scan'].frameID.isin(s.obs_df.frameID)] )\n",
        "            s.obs_df.reset_index(inplace=True)\n",
        "            s.eph_df.reset_index(inplace=True)\n",
        "            s.att_df.reset_index(inplace=True)\n",
        "\n",
        "        print(\"Selection done.\")"
      ],
      "execution_count": 6,
      "outputs": [
        {
          "output_type": "stream",
          "text": [
            "Selection done.\n"
          ],
          "name": "stdout"
        }
      ]
    },
    {
      "cell_type": "code",
      "metadata": {
        "id": "XgQRWmBrp3-u",
        "colab_type": "code",
        "outputId": "dcea78ad-0576-4675-e899-e771d9500826",
        "colab": {
          "base_uri": "https://localhost:8080/",
          "height": 451
        }
      },
      "source": [
        "import matplotlib.pyplot as plt\n",
        "import scipy.stats as stats\n",
        "import math\n",
        "\n",
        "options = opt()\n",
        "############################\n",
        "#### Set meas_err_sigma ####\n",
        "############################\n",
        "options.set_meas_err_sigma(2.e-2 / rad2arcsec)\n",
        "\n",
        "for s in stars:\n",
        "  if len(s.obs_df > 0):\n",
        "\n",
        "    s.update_options(options)\n",
        "    \n",
        "    s.cat = s.cat_orig\n",
        "    s.set_obs_eq(simobs=True)\n",
        "\n",
        "cat_err_list = np.array([[0,0]])/ rad2arcsec\n",
        "\n",
        "for i in range(1):\n",
        "\n",
        "    cat_err = dict(zip([\"ra\",\"dec\"],cat_err_list[i,:]))\n",
        "    options.set_cat_err(cat_err) #,'par': 0.0 / rad2arcsec,'mu_a': 0.0 / rad2arcsec,'mu_d': 0.0 / rad2arcsec})\n",
        "    options.set_relat(1)\n",
        "  \n",
        "    # check numerical ders\n",
        "    [s.numeric_partials() for s in stars]\n",
        "    # define and apply perturbation to catalog : sigma pars in as, as/y\n",
        "    [s.perturb(sigma_pert=options.sigma_pert) for s in stars if len(s.obs_df > 0)]\n",
        "    # TODO change to len(s.obs_df > 0) when using full dataset\n",
        "    [s.set_obs_eq() for s in stars if len(s.obs_df > 0)]\n",
        "\n",
        "    # show the residuals (in mas)\n",
        "    kt = np.deg2rad(stars[0].obs_eq.b)*rad2arcsec*1000\n",
        "    print(\"Residuals in mas\")\n",
        "    print(kt)\n",
        "\n",
        "    for s in stars:\n",
        "\n",
        "      # solution based on numerical partials\n",
        "      subset_num_part = s.num_part.loc[:, list(s.pert.keys())].values\n",
        "      x = np.linalg.lstsq(subset_num_part, s.obs_eq.b, rcond=None)\n",
        "      print(\"Solution vector x_0 (rad):\", x)\n",
        "      s.obs_eq.x = x\n",
        "\n",
        "      x = s.obs_eq.x[0]\n",
        "      print(\"discrepancies on parameter retrieval\")\n",
        "      print(list(s.pert.values())-x)\n",
        "\n"
      ],
      "execution_count": 7,
      "outputs": [
        {
          "output_type": "stream",
          "text": [
            "Residuals in mas\n",
            "[-18.83430809  27.93156209  13.59428896  -7.41007135  20.32697788\n",
            "   1.44240046  -3.58392975  16.62198431  26.18074729  -3.87775482\n",
            " -19.86499407  12.93963261   6.67335968 -32.91343521  11.17779532\n",
            "  10.28313326 -48.08238665  30.62165186 -15.92931681  40.07297034\n",
            "  11.93925496 -30.07361765 -24.42872826  18.02240301   9.0739746\n",
            "  -1.60466085  25.16206595 -11.0444001  -44.55154584  27.10482987\n",
            "  39.63066159  -5.76487491   2.38246622 -36.08659864   3.20724358\n",
            "   1.01319427   3.81747779  19.81212477 -13.46059968  26.48164929\n",
            " -23.32980276  -0.16752359 -10.07260113  11.05529394  18.40387336\n",
            " -36.00526721  -9.37099565 -24.14006359  -3.74245796 -52.23215055\n",
            "  -7.15000097  20.59609609 -15.37018194  -8.50598232  46.42299947\n",
            "   2.31808458 -19.60398042 -16.0233008    6.78870817  24.2524843\n",
            "  -9.82587099  22.91655892 -26.49357325   6.12535093  18.49638007\n",
            "  11.3533184   16.21777626  11.21434625  14.72768208   7.58017047\n",
            "  -4.77939398 -11.93778146  22.20486549  19.03075879   8.58305019\n",
            "  -1.27491186  -1.95458743  40.87963058 -34.08054701  17.80388037\n",
            " -36.33977723  27.04510035  19.28343302   5.0286991    4.45350227\n",
            "  15.43156645 -14.69790382  36.04068227 -21.1011546   16.35945994\n",
            " -25.03199309   8.17429232  27.98113104  -8.98229397 -44.60342015\n",
            "   1.04893965  -2.22969871   7.98748174  17.5305647   15.02652907\n",
            "  26.41432415  28.18063343  -1.41876034]\n",
            "Solution vector x_0 (rad): (array([-2.88546418e-08,  1.52774351e-08]), array([3.50082779e-09]), 2, array([431.72338862, 284.49294971]))\n",
            "discrepancies on parameter retrieval\n",
            "[ 2.88546418e-08 -1.52774351e-08]\n"
          ],
          "name": "stdout"
        }
      ]
    },
    {
      "cell_type": "markdown",
      "metadata": {
        "id": "IACIeHCdcrXm",
        "colab_type": "text"
      },
      "source": [
        "## Step 1: verify the numerical correctness of the model\n",
        "We take just one star, setting the properties to have neither measurement error nor catalog errors (i.e. $\\sigma_\\mathrm{m}=\\sigma_\\mathrm{c}=0$, GR On).\n",
        "We expect to get an exact solution up to the numerical accuracy.\n",
        "\n",
        "Evaluate the numerical accuracy."
      ]
    },
    {
      "cell_type": "code",
      "metadata": {
        "id": "T3Nn_kCznQKE",
        "colab_type": "code",
        "outputId": "7fb8bb2f-7273-438e-b339-f149419c5241",
        "colab": {
          "base_uri": "https://localhost:8080/",
          "height": 104
        }
      },
      "source": [
        "options = opt()\n",
        "###############################################\n",
        "#### Set cat err, meas_err_sigma and relat ####\n",
        "###############################################\n",
        "options.set_cat_err({'ra': 0.0 / rad2arcsec,\n",
        "              'dec': 0.0 / rad2arcsec}) #,'par': 0.0 / rad2arcsec,'mu_a': 0.0 / rad2arcsec,'mu_d': 0.0 / rad2arcsec})\n",
        "options.set_meas_err_sigma(0.0 / rad2arcsec)\n",
        "# options.set_debug(0)\n",
        "options.set_relat(1)\n",
        "\n",
        "process(stars,options)\n",
        "\n",
        "for s in stars:\n",
        "\n",
        "    _ = solve_star(s)\n",
        "\n",
        "x = stars[0].obs_eq.x[0]\n",
        "print(list(stars[0].pert.values())-x)"
      ],
      "execution_count": 8,
      "outputs": [
        {
          "output_type": "stream",
          "text": [
            "Solution for star # 1\n",
            "Perts to retrieve : {'ra': 0.0, 'dec': 0.0}\n",
            "analyt sol (rad, parts*100) :  (array([-2.74711730e-08,  1.45847725e-08]), array([3.50135352e-09]), 2, array([451.51803526, 297.67766921]))\n",
            "num sol (rad): (array([-2.88546418e-08,  1.52774351e-08]), array([3.50082779e-09]), 2, array([431.72338862, 284.49294971]))\n",
            "[ 2.88546418e-08 -1.52774351e-08]\n"
          ],
          "name": "stdout"
        }
      ]
    },
    {
      "cell_type": "markdown",
      "metadata": {
        "id": "IeasOkYjBDo3",
        "colab_type": "text"
      },
      "source": [
        "## Step 2: consistency of the formal and empirical errors\n",
        "Perform a Monte Carlo run of the 1 star solution (e.g. 100  times) with $\\sigma_\\mathrm{m}\\not=0$ and $\\sigma_\\mathrm{c}=0$ (GR On).\n",
        "Compute the variance-covariance matrix of the positions (ra, dec) $\\sigma_\\mathrm{m}^2\\,(A^\\mathrm{T}A)^{-1}$ and compare it with the empirical distribution of the errors $\\mathbf{x}_\\mathrm{true}-\\mathbf{x}_\\mathrm{adj}$ from the Monte Carlo run for each of the 2 parameters.\n",
        "\n"
      ]
    },
    {
      "cell_type": "code",
      "metadata": {
        "id": "zC4Lv7MHlk9O",
        "colab_type": "code",
        "outputId": "aeb37d1b-f74f-4f7c-b14e-1078c0d5a797",
        "colab": {
          "base_uri": "https://localhost:8080/",
          "height": 321
        }
      },
      "source": [
        "import matplotlib.pyplot as plt\n",
        "import scipy.stats as stats\n",
        "import math\n",
        "\n",
        "meas_err_list = [2.e-2]\n",
        "\n",
        "options = opt()\n",
        "options.set_cat_err({'ra': 0.0 / rad2arcsec,'dec': 0.0 / rad2arcsec})\n",
        "options.set_meas_err_sigma(0. / rad2arcsec)\n",
        "# options.set_debug(0)\n",
        "options.set_relat(1)\n",
        "\n",
        "for s in stars:\n",
        "  if len(s.obs_df > 0):\n",
        "\n",
        "    ext_num = 100\n",
        "    obs_iter = []\n",
        "    for i in range(ext_num):\n",
        "\n",
        "      options.set_meas_err_sigma(meas_err_list[0] / rad2arcsec)\n",
        "      s.update_options(options)\n",
        "\n",
        "      s.cat = s.cat_orig\n",
        "      s.set_obs_eq(simobs=True,rand_seed=i)\n",
        "      \n",
        "      obs_iter.extend(s.obs_df.eta.values)\n",
        "      \n",
        "    print(\"End loop\")\n",
        "\n",
        "    # check numerical ders\n",
        "    [s.numeric_partials() for s in stars]\n",
        "    # define and apply perturbation to catalog : sigma pars in as, as/y\n",
        "    [s.perturb(sigma_pert=options.sigma_pert) for s in stars if len(s.obs_df > 0)]\n",
        "    # TODO change to len(s.obs_df > 0) when using full dataset\n",
        "    [s.set_obs_eq() for s in stars if len(s.obs_df > 0)]\n",
        "\n",
        "    # show the residuals (in mas)\n",
        "    obs_iter = np.reshape(obs_iter,(ext_num,-1))\n",
        "    phi_calc = s.obs_eq.b + s.obs_df.eta.values\n",
        "    b_iter = obs_iter - phi_calc\n",
        "    \n",
        "    kt = np.deg2rad(b_iter)*rad2arcsec*1000\n",
        "    \n",
        "    subset_num_part = s.num_part.loc[:, list(s.pert.keys())].values\n",
        "    x = [np.linalg.lstsq(subset_num_part, b_iter[i,:], rcond=None) for i in range(ext_num)]\n",
        "    x = np.vstack(np.array(x)[:,0])\n",
        "    x = x*rad2arcsec*1000\n",
        "    \n",
        "    plt.hist(x[:,1], bins='auto',density=True)  # arguments are passed to np.histogram\n",
        "    mu = 0\n",
        "    variance = (20)**2\n",
        "    sigma = math.sqrt(variance)\n",
        "    \n",
        "    A = stars[0].obs_eq.A.values[:,:2]\n",
        "    #print(A)\n",
        "    b = stars[0].obs_eq.b\n",
        "    #print(b)\n",
        "    ATA = np.matmul(np.transpose(A),A)\n",
        "    InvA = np.linalg.inv(ATA)\n",
        "    sigma_pars = sigma*InvA**(1/2)\n",
        "    print(sigma_pars)\n",
        "    \n",
        "    sigma = sigma_pars[1,1]\n",
        "    x = np.linspace(mu - 3*sigma, mu + 3*sigma, 100)\n",
        "    plt.plot(x, stats.norm.pdf(x, mu, sigma))\n",
        "    plt.show()"
      ],
      "execution_count": 9,
      "outputs": [
        {
          "output_type": "stream",
          "text": [
            "End loop\n",
            "[[6.70616859 1.43641073]\n",
            " [1.43641073 4.4484161 ]]\n"
          ],
          "name": "stdout"
        },
        {
          "output_type": "display_data",
          "data": {
            "image/png": "[encoded data removed]",
            "text/plain": [
              "<Figure size 432x288 with 1 Axes>"
            ]
          },
          "metadata": {
            "tags": []
          }
        }
      ]
    },
    {
      "cell_type": "code",
      "metadata": {
        "id": "1EQlzgA0PMbf",
        "colab_type": "code",
        "outputId": "839406b7-2443-4b08-cdae-89d519843643",
        "colab": {
          "base_uri": "https://localhost:8080/",
          "height": 34
        }
      },
      "source": [
        "A = stars[0].obs_eq.A.values[:,:2]\n",
        "#print(A)\n",
        "b = stars[0].obs_eq.b\n",
        "#print(b)\n",
        "ATA = np.matmul(np.transpose(A),A)\n",
        "InvA = np.linalg.inv(ATA)\n",
        "CovM = 100*InvA**(1/2)\n",
        "corr = CovM[0:1,1:2]/(CovM[0:1,0:1]*CovM[1:2,1:2])**0.5\n",
        "print(corr)\n",
        "\n"
      ],
      "execution_count": 10,
      "outputs": [
        {
          "output_type": "stream",
          "text": [
            "[[0.26298968]]\n"
          ],
          "name": "stdout"
        }
      ]
    },
    {
      "cell_type": "markdown",
      "metadata": {
        "id": "xTCTaGMMDDu5",
        "colab_type": "text"
      },
      "source": [
        "## Step 3: Influence of $\\sigma_\\mathrm{c}$ on the convergence of the solution\n",
        "Run the 1-star solution repeatedly with $\\sigma_\\mathrm{m}=0$ and an increasing $\\sigma_\\mathrm{c}$ (GR ON) and evaluate the quality of the solution for the astrometric parameters.\n",
        "\n",
        "Try with, e.g., $\\sigma_\\mathrm{c}=10, 50, 100, 500, 1000,2000,5000,10000\\,\\mathrm{mas}$.\n",
        "\n",
        "What can you infer about the influence of the catalog error on the accuracy of the estimated parameters? (Hint: linearized problem.)\n"
      ]
    },
    {
      "cell_type": "code",
      "metadata": {
        "id": "NsZQIQcHfyTx",
        "colab_type": "code",
        "outputId": "d8f660d8-a903-4002-a7ab-7f1f10995bc5",
        "colab": {
          "base_uri": "https://localhost:8080/",
          "height": 851
        }
      },
      "source": [
        "for s in stars:\n",
        "  if len(s.obs_df > 0):\n",
        "\n",
        "    options = opt()\n",
        "    options.set_meas_err_sigma(0. / rad2arcsec)\n",
        "    options.set_relat(1)\n",
        "    s.update_options(options)\n",
        "    \n",
        "    s.cat = s.cat_orig\n",
        "    s.set_obs_eq(simobs=True)\n",
        "\n",
        "    cat_err_list = np.array([[1.e-2,1.e-2],[1.e-1,1.e-1]])/ rad2arcsec\n",
        "\n",
        "    ###############################################\n",
        "    #### Set cat err, meas_err_sigma and relat ####\n",
        "    ###############################################\n",
        "\n",
        "    for i in range(2):\n",
        "\n",
        "        cat_err = dict(zip([\"ra\",\"dec\"],cat_err_list[i,:]))\n",
        "        options.set_cat_err(cat_err) #,'par': 0.0 / rad2arcsec,'mu_a': 0.0 / rad2arcsec,'mu_d': 0.0 / rad2arcsec})\n",
        "        options.set_meas_err_sigma(0. / rad2arcsec)\n",
        "        options.set_relat(1)\n",
        "\n",
        "        s.update_options(options)\n",
        "\n",
        "        # check numerical ders\n",
        "        [s.numeric_partials() for s in stars]\n",
        "        # define and apply perturbation to catalog : sigma pars in as, as/y\n",
        "        [s.perturb(sigma_pert=options.sigma_pert) for s in stars if len(s.obs_df > 0)]\n",
        "        [s.set_obs_eq() for s in stars if len(s.obs_df > 0)]\n",
        "\n",
        "        # show the residuals (in mas)\n",
        "        kt = np.deg2rad(stars[0].obs_eq.b)*rad2arcsec*1000\n",
        "        print(kt)\n",
        "\n",
        "        for s in stars:\n",
        "\n",
        "          # solution based on numerical partials\n",
        "          subset_num_part = s.num_part.loc[:, list(s.pert.keys())].values\n",
        "          x = np.linalg.lstsq(subset_num_part, s.obs_eq.b, rcond=None)\n",
        "          print(\"num sol (rad):\", x)\n",
        "          s.obs_eq.x = x\n",
        "\n",
        "          x = s.obs_eq.x[0]\n",
        "          print(\"discrepancies on parameter retrieval\")\n",
        "          print(list(s.pert.values())-x)"
      ],
      "execution_count": 11,
      "outputs": [
        {
          "output_type": "stream",
          "text": [
            "[ 17.13010147  17.10404587  17.09291646  11.25746734   9.17273415\n",
            "  17.28894562 -17.09886571 -17.10545503  -9.50791165  -9.49064291\n",
            " -10.75780468   6.75207686   6.82008381   6.98335967  15.68816862\n",
            "  15.66419356  12.73564531  12.73711156   8.14975626   8.2117881\n",
            "  16.41696404  16.44039149 -16.18046692 -16.19013034  -9.60829334\n",
            "  -9.50060684   7.59162693  13.85504984  13.83713366  14.24074848\n",
            "   7.98161928   8.05947263   8.24616719   8.32411638   8.51088499\n",
            "  12.64863712  12.71015579  12.85377324  12.9137488  -11.34184651\n",
            " -11.27416389 -11.11033377 -11.04124248 -10.87406973 -10.80359939\n",
            "  -7.46642625  -7.3849733   -7.18971737  -7.10819139  -6.912911\n",
            "  -6.83143822 -14.90027299 -13.40388949 -13.42719815  -8.66895436\n",
            "  -8.52833463   8.68553613   8.72780201  12.10540779  15.66731618\n",
            " -15.75197113 -15.67681011  -6.88414954  -6.81869599 -13.4747043\n",
            " -13.4711269  -15.61884092  -7.99980571  -7.92907232   8.19772807\n",
            "   8.27738024   8.46750622   8.54648908   8.73497337   8.8132555\n",
            "   9.00002255   9.07757224  15.83387858  15.87008184  15.95393871\n",
            "  15.98863555  16.06893864  16.10213675   9.87245924   9.90016311\n",
            "  10.55228669  16.8257309  -17.19163633 -17.18507078  -7.99157986\n",
            "  -7.94901818 -12.07163877 -17.23740152 -17.24349243 -17.25687202\n",
            " -17.2619621   -8.46786196  -8.39113304  -8.20664295  -8.12945192\n",
            "   6.53267794   6.71751488   6.79558051]\n",
            "num sol (rad): (array([6.24529010e-08, 7.02710353e-08]), array([2.0945858e-24]), 2, array([431.72338862, 284.49294971]))\n",
            "discrepancies on parameter retrieval\n",
            "[-4.65352371e-16  4.82544854e-15]\n",
            "[ 171.3009923   171.04043552  170.92914141  112.57470701   91.72728536\n",
            "  172.88943977 -170.98863468 -171.05452748  -95.07915685  -94.90646861\n",
            " -107.57799317   67.52081662   68.20088569   69.83364513  156.88164815\n",
            "  156.64189797  127.35648232  127.3711456    81.49750368   82.11782247\n",
            "  164.16960831  164.40388364 -161.80463586 -161.9012698   -96.08287673\n",
            "  -95.00600971   75.91631796  138.55045108  138.37128993  142.40750796\n",
            "   79.81613156   80.59466675   82.46161274   83.24110458   85.10879214\n",
            "  126.48632032  127.1015077   128.53768111  129.13743762 -113.41850262\n",
            " -112.74167676 -111.10337666 -110.41246349 -108.74073756 -108.03603409\n",
            "  -74.66431213  -73.84978271  -71.89722321  -71.08196431  -69.1291605\n",
            "  -68.31443145 -149.00268702 -134.03892241 -134.27200844  -86.68948468\n",
            "  -85.28328553   86.85540846   87.27806768  121.05402485  156.67317981\n",
            " -157.51972783 -156.76811976  -68.84154927  -68.18701436 -134.74699439\n",
            " -134.71121987 -156.18842326  -79.99799509  -79.29066161   81.97732828\n",
            "   82.77385056   84.67510928   85.46493841   87.34978039   88.13260231\n",
            "   90.00027081   90.77576828  158.33879924  158.70083106  159.53939954\n",
            "  159.8863663   160.6893962   161.02137738   98.72463772   99.00167684\n",
            "  105.52280951  168.25731653 -171.91636037 -171.85070587  -79.91585177\n",
            "  -79.49023497 -120.71633408 -172.37400586 -172.43491474 -172.56870958\n",
            " -172.61961048  -84.67855799  -83.91126888  -82.06636685  -81.29445656\n",
            "   65.32683279   67.17520312   67.95585891]\n",
            "num sol (rad): (array([6.24528622e-07, 7.02710463e-07]), array([8.34523837e-23]), 2, array([431.72338862, 284.49294971]))\n",
            "discrepancies on parameter retrieval\n",
            "[ 3.83255852e-13 -6.19415768e-14]\n"
          ],
          "name": "stdout"
        }
      ]
    },
    {
      "cell_type": "markdown",
      "metadata": {
        "id": "lGYhq4oUM1Lf",
        "colab_type": "text"
      },
      "source": [
        "## Step 4: Influence of GR on the accuracy of the astrometric parameters\n",
        "Run the 1-star solution with $\\sigma_\\mathrm{m}=\\sigma_\\mathrm{c}=0$, but switch GR Off.\n",
        "Compare the results with those of the first case."
      ]
    },
    {
      "cell_type": "code",
      "metadata": {
        "id": "UlEmEhKXq3FM",
        "colab_type": "code",
        "outputId": "73917d9b-b951-49d5-c666-7c0ee382889b",
        "colab": {
          "base_uri": "https://localhost:8080/",
          "height": 434
        }
      },
      "source": [
        "for s in stars:\n",
        "  if len(s.obs_df > 0):\n",
        "\n",
        "    # TODO change to len(s.obs_df > 0) when using full dataset\n",
        "    options = opt()\n",
        "    ###############################################\n",
        "    #### Set cat err, meas_err_sigma and relat ####\n",
        "    ###############################################\n",
        "    options.set_cat_err({'ra': 0.0 / rad2arcsec,\n",
        "                  'dec': 0.0 / rad2arcsec}) #,'par': 0.0 / rad2arcsec,'mu_a': 0.0 / rad2arcsec,'mu_d': 0.0 / rad2arcsec})\n",
        "    options.set_meas_err_sigma(0.0 / rad2arcsec)\n",
        "    options.set_relat(1)\n",
        "    print(options.relat)\n",
        "    s.update_options(options)\n",
        "\n",
        "    [s.set_obs_eq(simobs=True) for s in stars if len(s.obs_df > 0)]\n",
        "\n",
        "    options.set_relat(0)\n",
        "    print(options.relat)\n",
        "    s.update_options(options)\n",
        "\n",
        "    # check numerical ders\n",
        "    [s.numeric_partials() for s in stars]\n",
        "    # define and apply perturbation to catalog : sigma pars in as, as/y\n",
        "    [s.perturb(sigma_pert=options.sigma_pert) for s in stars if len(s.obs_df > 0)]\n",
        "    # TODO change to len(s.obs_df > 0) when using full dataset\n",
        "    [s.set_obs_eq() for s in stars if len(s.obs_df > 0)]\n",
        "\n",
        "    # show the residuals (in mas)\n",
        "    print('Known terms (mas)')\n",
        "    kt = np.deg2rad(s.obs_eq.b)*rad2arcsec*1000\n",
        "    print(kt)"
      ],
      "execution_count": 12,
      "outputs": [
        {
          "output_type": "stream",
          "text": [
            "1\n",
            "0\n",
            "Known terms (mas)\n",
            "[-175.35592448 -169.24206978 -175.01466081 -114.34913919  -96.9372566\n",
            " -170.83302003  175.23830697  169.16292544   96.76380619   90.43944801\n",
            "  106.7595598   -62.89569463  -69.4691701   -65.23231789 -155.68040215\n",
            " -161.19394414 -123.54846981 -129.41375875  -80.86701535  -87.39762748\n",
            " -162.6960278  -168.8609907   166.39758754  160.45912834   95.32651186\n",
            "  100.37863878  -77.26388697 -137.60279879 -143.27127351 -138.92855925\n",
            "  -79.17819922  -85.90455545  -81.81894853  -88.54639801  -84.45990576\n",
            " -125.69205715 -132.15551633 -127.72486831 -134.17354273  115.32778634\n",
            "  108.55170907  112.97632343  106.18599512  110.57810485  103.77362575\n",
            "   76.09179491   69.17316673   73.29589504   66.37620884   70.49927993\n",
            "   63.57957984  149.31881785  131.74578052  135.09460105   90.57329819\n",
            "   86.05996797  -86.93568431  -84.2521131  -124.75576418 -158.04798233\n",
            "  158.90181564  155.07014032   65.64338959   68.03754548  135.23624381\n",
            "  138.25625649  157.52426634   80.81317638   83.16223619  -81.98649022\n",
            "  -79.68077526  -84.71632811  -82.40417841  -87.42376764  -85.1048017\n",
            "  -90.10771503  -87.78155556 -159.76219438 -157.08120217 -161.0046111\n",
            " -158.30852345 -162.19616992 -159.48497615  -98.93663612  -96.16220985\n",
            " -109.30231156 -167.03813585  170.95500577  173.99312822   76.82655368\n",
            "   79.45134669  124.42541395  171.48401555  174.66675825  171.71564271\n",
            "  174.88837822   85.4566086    87.80237115   82.85009863   85.19117739\n",
            "  -62.09203134  -67.01460123  -64.74787975]\n"
          ],
          "name": "stdout"
        }
      ]
    },
    {
      "cell_type": "markdown",
      "metadata": {
        "id": "zN0FWpWEVf5y",
        "colab_type": "text"
      },
      "source": [
        "## Step 5: Influence of the scanning law\n",
        "Generate an array with the ecliptic coordinates of the stars and the corresponding number of observations; then plot the number of observations as function of the ecliptic latitude.\n",
        "\n",
        "What can you say about the relation with the satellite scanning law?\n",
        "\n",
        "PS: The catalog is given in equatorial coordinates. You can find an example of the needed coordinate conversion in the next cell."
      ]
    },
    {
      "cell_type": "code",
      "metadata": {
        "id": "sM79S4uyS28S",
        "colab_type": "code",
        "outputId": "a361ddd2-c9b3-411a-b5da-7d182ac497bb",
        "colab": {
          "base_uri": "https://localhost:8080/",
          "height": 338
        }
      },
      "source": [
        "import coords\n",
        "import matplotlib.pyplot as plt\n",
        "\n",
        "ras=np.rad2deg(nobs_per_star.loc[:,\"ra\"].values)\n",
        "decs=np.rad2deg(nobs_per_star.loc[:,\"dec\"].values)\n",
        "nobs=nobs_per_star.loc[:,\"num_obs\"].values\n",
        "\n",
        "print(np.min(ras),np.max(ras))\n",
        "print(np.min(decs),np.max(decs))\n",
        "\n",
        "l, b = coords.eq2ec(ra=ras, dec=decs)\n",
        "\n",
        "print(np.min(b),np.max(b))\n",
        "\n",
        "area = np.pi*2\n",
        "\n",
        "plt.scatter(b, nobs, s=area)\n"
      ],
      "execution_count": 13,
      "outputs": [
        {
          "output_type": "stream",
          "text": [
            "0.9019769359854876 359.99190794303644\n",
            "-86.37238725069987 86.34579634715192\n",
            "-89.46487786021007 86.75846804481482\n"
          ],
          "name": "stdout"
        },
        {
          "output_type": "execute_result",
          "data": {
            "text/plain": [
              "<matplotlib.collections.PathCollection at 0x7fc668821978>"
            ]
          },
          "metadata": {
            "tags": []
          },
          "execution_count": 13
        },
        {
          "output_type": "display_data",
          "data": {
            "image/png": "[encoded data removed]",
            "text/plain": [
              "<Figure size 432x288 with 1 Axes>"
            ]
          },
          "metadata": {
            "tags": []
          }
        }
      ]
    }
  ]
}
